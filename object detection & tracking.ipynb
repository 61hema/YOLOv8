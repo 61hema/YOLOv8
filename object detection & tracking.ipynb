{
 "cells": [
  {
   "cell_type": "code",
   "execution_count": 1,
   "id": "2d4a9ab7",
   "metadata": {},
   "outputs": [],
   "source": [
    "import cv2"
   ]
  },
  {
   "cell_type": "code",
   "execution_count": null,
   "id": "5be09e9d",
   "metadata": {},
   "outputs": [
    {
     "name": "stderr",
     "output_type": "stream",
     "text": [
      "\n",
      "0: 384x640 1 person, 2 dogs, 590.7ms\n",
      "Speed: 24.6ms preprocess, 590.7ms inference, 34.1ms postprocess per image at shape (1, 3, 384, 640)\n",
      "\n"
     ]
    }
   ],
   "source": [
    "from ultralytics import YOLO\n",
    "import cv2\n",
    "\n",
    "\n",
    "# load yolov8 model\n",
    "model = YOLO('yolov8n.pt')\n",
    "\n",
    "# load video\n",
    "video_path = 'Downloads/test.mp4'\n",
    "cap = cv2.VideoCapture(video_path)\n",
    "\n",
    "ret = True\n",
    "# read frames\n",
    "while ret:\n",
    "    ret, frame = cap.read()\n",
    "\n",
    "    if ret:\n",
    "\n",
    "        # detect objects\n",
    "        # track objects\n",
    "        results = model.track(frame, persist=True)\n",
    "\n",
    "        # plot results\n",
    "        # cv2.rectangle\n",
    "        # cv2.putText\n",
    "        frame_ = results[0].plot()\n",
    "\n",
    "        # visualize\n",
    "        cv2.imshow('frame', frame_)\n",
    "        if cv2.waitKey(25) & 0xFF == ord('q'):\n",
    "            break"
   ]
  },
  {
   "cell_type": "code",
   "execution_count": null,
   "id": "ca72f38f",
   "metadata": {},
   "outputs": [],
   "source": []
  }
 ],
 "metadata": {
  "kernelspec": {
   "display_name": "Python 3 (ipykernel)",
   "language": "python",
   "name": "python3"
  },
  "language_info": {
   "codemirror_mode": {
    "name": "ipython",
    "version": 3
   },
   "file_extension": ".py",
   "mimetype": "text/x-python",
   "name": "python",
   "nbconvert_exporter": "python",
   "pygments_lexer": "ipython3",
   "version": "3.11.4"
  }
 },
 "nbformat": 4,
 "nbformat_minor": 5
}
